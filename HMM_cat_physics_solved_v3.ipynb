{
 "cells": [
  {
   "cell_type": "markdown",
   "id": "d16c8efe-9b23-4483-a52e-5cb17704a91d",
   "metadata": {},
   "source": [
    "# Schrödinger’s Cat May Be Dead All Along"
   ]
  },
  {
   "cell_type": "markdown",
   "id": "d46619e7-84d5-43c6-851b-00a049ea9e6c",
   "metadata": {},
   "source": [
    "This Jupyter Notebook is for the paper \"Fortela, D.L.; Mikolajczyk, A. Schrödinger’s Cat May Be Dead All Along. Preprints 2023, 2023100009. https://doi.org/10.20944/preprints202310.0009.v1\""
   ]
  },
  {
   "cell_type": "code",
   "execution_count": 1,
   "id": "2f38ae94-6937-40b2-9bfc-4a94c7d00047",
   "metadata": {
    "tags": []
   },
   "outputs": [],
   "source": [
    "# import the necessary libraries\n",
    "import numpy as np\n",
    "import matplotlib.pyplot as plt\n",
    "import seaborn as sns\n",
    "from hmmlearn import hmm"
   ]
  },
  {
   "cell_type": "code",
   "execution_count": 2,
   "id": "dae05613-4bad-488a-9f99-91a9ecee1d7a",
   "metadata": {},
   "outputs": [
    {
     "name": "stdout",
     "output_type": "stream",
     "text": [
      "Number of hidden states : 2\n",
      "Number of observations : 2\n"
     ]
    }
   ],
   "source": [
    "# Define the state space\n",
    "states = [\"Dead\", \"Alive\"]\n",
    "n_states = len(states)\n",
    "print('Number of hidden states :',n_states)\n",
    "# Define the observation space\n",
    "observations = [\"Sad\", \"Happy\"]\n",
    "n_observations = len(observations)\n",
    "print('Number of observations :',n_observations)\n"
   ]
  },
  {
   "cell_type": "code",
   "execution_count": 3,
   "id": "10c4ce63-a50e-44a0-81c8-30113e65433f",
   "metadata": {},
   "outputs": [
    {
     "name": "stdout",
     "output_type": "stream",
     "text": [
      "State probability:  [0.5 0.5]\n",
      "\n",
      "Transition probability:\n",
      " [[1.  0. ]\n",
      " [0.5 0.5]]\n",
      "\n",
      "Emission probability:\n",
      " [[0.5 0.5]\n",
      " [0.5 0.5]]\n"
     ]
    }
   ],
   "source": [
    "# Define the initial state distribution\n",
    "state_probability = np.array([0.5, 0.5])\n",
    "print(\"State probability: \", state_probability)\n",
    "\n",
    "# Define the state transition probabilities\n",
    "transition_probability = np.array([[1, 0],\n",
    "\t\t\t\t\t\t\t\t[0.5, 0.5]])\n",
    "print(\"\\nTransition probability:\\n\", transition_probability)\n",
    "# Define the observation likelihoods\n",
    "emission_probability= np.array([[0.5, 0.5],\n",
    "\t\t\t\t\t\t\t\t[0.5, 0.5]])\n",
    "print(\"\\nEmission probability:\\n\", emission_probability)\n"
   ]
  },
  {
   "cell_type": "code",
   "execution_count": 4,
   "id": "8daac7c3-ff8b-4f76-bc1e-225a2eeeed1e",
   "metadata": {},
   "outputs": [],
   "source": [
    "# Define the sequence of observations\n",
    "sample_length = 10000\n",
    "seq = list(range(1))\n",
    "\n",
    "X = []\n",
    "for s in seq:\n",
    "    row = np.random.choice([0, 1], size=sample_length, p=[.5, .5])#.reshape(-1, 1)\n",
    "    X.append(row)\n",
    "\n",
    "observations_sequence = np.array(X, dtype=int)"
   ]
  },
  {
   "cell_type": "code",
   "execution_count": 7,
   "id": "ba73b5b0-1cef-4388-8cf8-5322055623a9",
   "metadata": {},
   "outputs": [
    {
     "name": "stdout",
     "output_type": "stream",
     "text": [
      "Learned emission probs:\n",
      "[[4.96898883e-01 5.03101117e-01]\n",
      " [2.83242376e-06 9.99997168e-01]]\n",
      "Learned transition matrix:\n",
      "[[1.         0.        ]\n",
      " [0.50155226 0.49844774]]\n"
     ]
    }
   ],
   "source": [
    "model = hmm.CategoricalHMM(n_components=n_states, init_params='')\n",
    "model.startprob_ = state_probability\n",
    "model.transmat_ = transition_probability\n",
    "model.emissionprob_ = emission_probability\n",
    "model.fit(observations_sequence, len(X))\n",
    "\n",
    "logprob, received = model.decode(observations_sequence)\n",
    "\n",
    "print(\"Learned emission probs:\")\n",
    "print(model.emissionprob_)\n",
    "\n",
    "print(\"Learned transition matrix:\")\n",
    "print(model.transmat_)"
   ]
  },
  {
   "cell_type": "code",
   "execution_count": 8,
   "id": "2f42acb4-346b-4729-88e8-4e70d64afdc8",
   "metadata": {},
   "outputs": [
    {
     "name": "stdout",
     "output_type": "stream",
     "text": [
      "Most likely hidden states: [1 0 0 ... 0 0 0]\n"
     ]
    }
   ],
   "source": [
    "# Predict the most likely sequence of hidden states\n",
    "hidden_states = model.predict(observations_sequence)\n",
    "print(\"Most likely hidden states:\", hidden_states)\n"
   ]
  },
  {
   "cell_type": "code",
   "execution_count": 9,
   "id": "86a6c925-f987-4b51-b121-f5ffc3f6626c",
   "metadata": {},
   "outputs": [
    {
     "name": "stdout",
     "output_type": "stream",
     "text": [
      "Log Probability : -6931.27219061577\n",
      "Most likely hidden states: [1 0 0 ... 0 0 0]\n"
     ]
    }
   ],
   "source": [
    "log_probability, hidden_states = model.decode(observations_sequence,\n",
    "\t\t\t\t\t\t\t\t\t\t\tlengths = len(observations_sequence),\n",
    "\t\t\t\t\t\t\t\t\t\t\talgorithm ='viterbi' )\n",
    "\n",
    "print('Log Probability :',log_probability)\n",
    "print(\"Most likely hidden states:\", hidden_states)\n"
   ]
  },
  {
   "cell_type": "code",
   "execution_count": 10,
   "id": "9add2411-4e82-4814-84d4-6221af6a4b2a",
   "metadata": {
    "tags": []
   },
   "outputs": [
    {
     "data": {
      "text/plain": [
       "array([1., 0.])"
      ]
     },
     "execution_count": 10,
     "metadata": {},
     "output_type": "execute_result"
    }
   ],
   "source": [
    "# Also compute the stationary distribution of hidden states\n",
    "\n",
    "model.get_stationary_distribution()"
   ]
  },
  {
   "cell_type": "code",
   "execution_count": null,
   "id": "b86a7d07-bc54-40a3-b9fd-4549ac9b2ff1",
   "metadata": {},
   "outputs": [],
   "source": []
  }
 ],
 "metadata": {
  "kernelspec": {
   "display_name": "Python [conda env:.conda-py39] *",
   "language": "python",
   "name": "conda-env-.conda-py39-py"
  },
  "language_info": {
   "codemirror_mode": {
    "name": "ipython",
    "version": 3
   },
   "file_extension": ".py",
   "mimetype": "text/x-python",
   "name": "python",
   "nbconvert_exporter": "python",
   "pygments_lexer": "ipython3",
   "version": "3.9.17"
  }
 },
 "nbformat": 4,
 "nbformat_minor": 5
}
